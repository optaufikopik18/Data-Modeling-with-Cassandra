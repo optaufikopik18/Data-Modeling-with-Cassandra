{
 "metadata": {
  "language_info": {
   "codemirror_mode": {
    "name": "ipython",
    "version": 3
   },
   "file_extension": ".py",
   "mimetype": "text/x-python",
   "name": "python",
   "nbconvert_exporter": "python",
   "pygments_lexer": "ipython3",
   "version": "3.8.5-final"
  },
  "orig_nbformat": 2,
  "kernelspec": {
   "name": "python3",
   "display_name": "Python 3.8.5 64-bit",
   "metadata": {
    "interpreter": {
     "hash": "916dbcbb3f70747c44a77c7bcd40155683ae19c65e1c03b4aa3499c5328201f1"
    }
   }
  }
 },
 "nbformat": 4,
 "nbformat_minor": 2,
 "cells": [
  {
   "cell_type": "code",
   "execution_count": 32,
   "metadata": {},
   "outputs": [],
   "source": [
    "import cassandra\n",
    "import os\n",
    "import glob\n",
    "import pandas as pd\n",
    "import csv \n",
    "\n",
    "from cassandra.cluster import Cluster"
   ]
  },
  {
   "cell_type": "code",
   "execution_count": 16,
   "metadata": {},
   "outputs": [],
   "source": [
    "def get_files(dir):\n",
    "    all_files = []\n",
    "    for root, dirs, files in os.walk(dir):\n",
    "        files = glob.glob(os.path.join(root, '*.csv'))\n",
    "        for f in files:\n",
    "            all_files.append(os.path.abspath(f))\n",
    "        \n",
    "    return all_files"
   ]
  },
  {
   "cell_type": "code",
   "execution_count": 30,
   "metadata": {},
   "outputs": [
    {
     "output_type": "execute_result",
     "data": {
      "text/plain": [
       "['/home/indocyber/course/Data-Modeling-with-Cassandra/event_data/2018-11-01-events.csv',\n",
       " '/home/indocyber/course/Data-Modeling-with-Cassandra/event_data/2018-11-02-events.csv',\n",
       " '/home/indocyber/course/Data-Modeling-with-Cassandra/event_data/2018-11-03-events.csv',\n",
       " '/home/indocyber/course/Data-Modeling-with-Cassandra/event_data/2018-11-04-events.csv',\n",
       " '/home/indocyber/course/Data-Modeling-with-Cassandra/event_data/2018-11-05-events.csv',\n",
       " '/home/indocyber/course/Data-Modeling-with-Cassandra/event_data/2018-11-06-events.csv',\n",
       " '/home/indocyber/course/Data-Modeling-with-Cassandra/event_data/2018-11-07-events.csv',\n",
       " '/home/indocyber/course/Data-Modeling-with-Cassandra/event_data/2018-11-08-events.csv',\n",
       " '/home/indocyber/course/Data-Modeling-with-Cassandra/event_data/2018-11-09-events.csv',\n",
       " '/home/indocyber/course/Data-Modeling-with-Cassandra/event_data/2018-11-10-events.csv',\n",
       " '/home/indocyber/course/Data-Modeling-with-Cassandra/event_data/2018-11-11-events.csv',\n",
       " '/home/indocyber/course/Data-Modeling-with-Cassandra/event_data/2018-11-12-events.csv',\n",
       " '/home/indocyber/course/Data-Modeling-with-Cassandra/event_data/2018-11-13-events.csv',\n",
       " '/home/indocyber/course/Data-Modeling-with-Cassandra/event_data/2018-11-14-events.csv',\n",
       " '/home/indocyber/course/Data-Modeling-with-Cassandra/event_data/2018-11-15-events.csv',\n",
       " '/home/indocyber/course/Data-Modeling-with-Cassandra/event_data/2018-11-16-events.csv',\n",
       " '/home/indocyber/course/Data-Modeling-with-Cassandra/event_data/2018-11-17-events.csv',\n",
       " '/home/indocyber/course/Data-Modeling-with-Cassandra/event_data/2018-11-18-events.csv']"
      ]
     },
     "metadata": {},
     "execution_count": 30
    }
   ],
   "source": [
    "file_path_list = get_files('event_data')\n",
    "\n",
    "file_path_list"
   ]
  },
  {
   "cell_type": "code",
   "execution_count": 46,
   "metadata": {
    "tags": []
   },
   "outputs": [
    {
     "output_type": "stream",
     "name": "stdout",
     "text": [
      "114\n"
     ]
    }
   ],
   "source": [
    "full_data_rows_list = []\n",
    "\n",
    "for f in file_path_list:\n",
    "    with open(f, 'r', encoding = 'utf8', newline = '') as csvfile:\n",
    "        csvreader = csv.reader(csvfile)\n",
    "        next(csvreader)\n",
    "\n",
    "        for line in csvreader:\n",
    "            full_data_rows_list.append(line)\n",
    "\n",
    "\n",
    "csv.register_dialect('myDialect', quoting=csv.QUOTE_ALL, skipinitialspace=True)\n",
    "\n",
    "with open('evet_data_new.csv', 'w', encoding='utf8', newline='') as f:\n",
    "    writer = csv.writer(f, dialect='myDialect')\n",
    "    writer.writerow(['artist','firstName','gender','itemInSession','lastName','length','level','location','sessionId','song','userId'])\n",
    "    \n",
    "    for \n"
   ]
  },
  {
   "cell_type": "code",
   "execution_count": 23,
   "metadata": {},
   "outputs": [
    {
     "output_type": "execute_result",
     "data": {
      "text/plain": [
       "                        artist       auth firstName gender  itemInSession  \\\n",
       "0                          NaN  Logged In    Walter      M              0   \n",
       "1                          NaN  Logged In    Kaylee      F              0   \n",
       "2                      Des'ree  Logged In    Kaylee      F              1   \n",
       "3                          NaN  Logged In    Kaylee      F              2   \n",
       "4                      Mr Oizo  Logged In    Kaylee      F              3   \n",
       "5                   Tamba Trio  Logged In    Kaylee      F              4   \n",
       "6               The Mars Volta  Logged In    Kaylee      F              5   \n",
       "7            Infected Mushroom  Logged In    Kaylee      F              6   \n",
       "8   Blue October / Imogen Heap  Logged In    Kaylee      F              7   \n",
       "9                    Girl Talk  Logged In    Kaylee      F              8   \n",
       "10             Black Eyed Peas  Logged In    Sylvie      F              0   \n",
       "11                         NaN  Logged In      Ryan      M              0   \n",
       "12                Fall Out Boy  Logged In      Ryan      M              1   \n",
       "13                      M.I.A.  Logged In      Ryan      M              2   \n",
       "14                    Survivor  Logged In    Jayden      M              0   \n",
       "\n",
       "   lastName     length level                                      location  \\\n",
       "0      Frye        NaN  free             San Francisco-Oakland-Hayward, CA   \n",
       "1   Summers        NaN  free                   Phoenix-Mesa-Scottsdale, AZ   \n",
       "2   Summers  246.30812  free                   Phoenix-Mesa-Scottsdale, AZ   \n",
       "3   Summers        NaN  free                   Phoenix-Mesa-Scottsdale, AZ   \n",
       "4   Summers  144.03873  free                   Phoenix-Mesa-Scottsdale, AZ   \n",
       "5   Summers  177.18812  free                   Phoenix-Mesa-Scottsdale, AZ   \n",
       "6   Summers  380.42077  free                   Phoenix-Mesa-Scottsdale, AZ   \n",
       "7   Summers  440.26730  free                   Phoenix-Mesa-Scottsdale, AZ   \n",
       "8   Summers  241.39710  free                   Phoenix-Mesa-Scottsdale, AZ   \n",
       "9   Summers  160.15628  free                   Phoenix-Mesa-Scottsdale, AZ   \n",
       "10     Cruz  214.93506  free  Washington-Arlington-Alexandria, DC-VA-MD-WV   \n",
       "11    Smith        NaN  free            San Jose-Sunnyvale-Santa Clara, CA   \n",
       "12    Smith  200.72444  free            San Jose-Sunnyvale-Santa Clara, CA   \n",
       "13    Smith  233.71710  free            San Jose-Sunnyvale-Santa Clara, CA   \n",
       "14      Fox  245.36771  free                      New Orleans-Metairie, LA   \n",
       "\n",
       "   method      page  registration  sessionId  \\\n",
       "0     GET      Home  1.540920e+12         38   \n",
       "1     GET      Home  1.540340e+12        139   \n",
       "2     PUT  NextSong  1.540340e+12        139   \n",
       "3     GET   Upgrade  1.540340e+12        139   \n",
       "4     PUT  NextSong  1.540340e+12        139   \n",
       "5     PUT  NextSong  1.540340e+12        139   \n",
       "6     PUT  NextSong  1.540340e+12        139   \n",
       "7     PUT  NextSong  1.540340e+12        139   \n",
       "8     PUT  NextSong  1.540340e+12        139   \n",
       "9     PUT  NextSong  1.540340e+12        139   \n",
       "10    PUT  NextSong  1.540270e+12          9   \n",
       "11    GET      Home  1.541020e+12        169   \n",
       "12    PUT  NextSong  1.541020e+12        169   \n",
       "13    PUT  NextSong  1.541020e+12        169   \n",
       "14    PUT  NextSong  1.541030e+12        100   \n",
       "\n",
       "                                                song  status            ts  \\\n",
       "0                                                NaN     200  1.541110e+12   \n",
       "1                                                NaN     200  1.541110e+12   \n",
       "2                                       You Gotta Be     200  1.541110e+12   \n",
       "3                                                NaN     200  1.541110e+12   \n",
       "4                                            Flat 55     200  1.541110e+12   \n",
       "5                       Quem Quiser Encontrar O Amor     200  1.541110e+12   \n",
       "6                                          Eriatarka     200  1.541110e+12   \n",
       "7                                    Becoming Insane     200  1.541110e+12   \n",
       "8                                    Congratulations     200  1.541110e+12   \n",
       "9                                         Once again     200  1.541110e+12   \n",
       "10                                           Pump It     200  1.541110e+12   \n",
       "11                                               NaN     200  1.541110e+12   \n",
       "12                    Nobody Puts Baby In The Corner     200  1.541110e+12   \n",
       "13  Mango Pickle Down River (With The Wilcannia Mob)     200  1.541110e+12   \n",
       "14                                  Eye Of The Tiger     200  1.541110e+12   \n",
       "\n",
       "    userId  \n",
       "0       39  \n",
       "1        8  \n",
       "2        8  \n",
       "3        8  \n",
       "4        8  \n",
       "5        8  \n",
       "6        8  \n",
       "7        8  \n",
       "8        8  \n",
       "9        8  \n",
       "10      10  \n",
       "11      26  \n",
       "12      26  \n",
       "13      26  \n",
       "14     101  "
      ],
      "text/html": "<div>\n<style scoped>\n    .dataframe tbody tr th:only-of-type {\n        vertical-align: middle;\n    }\n\n    .dataframe tbody tr th {\n        vertical-align: top;\n    }\n\n    .dataframe thead th {\n        text-align: right;\n    }\n</style>\n<table border=\"1\" class=\"dataframe\">\n  <thead>\n    <tr style=\"text-align: right;\">\n      <th></th>\n      <th>artist</th>\n      <th>auth</th>\n      <th>firstName</th>\n      <th>gender</th>\n      <th>itemInSession</th>\n      <th>lastName</th>\n      <th>length</th>\n      <th>level</th>\n      <th>location</th>\n      <th>method</th>\n      <th>page</th>\n      <th>registration</th>\n      <th>sessionId</th>\n      <th>song</th>\n      <th>status</th>\n      <th>ts</th>\n      <th>userId</th>\n    </tr>\n  </thead>\n  <tbody>\n    <tr>\n      <th>0</th>\n      <td>NaN</td>\n      <td>Logged In</td>\n      <td>Walter</td>\n      <td>M</td>\n      <td>0</td>\n      <td>Frye</td>\n      <td>NaN</td>\n      <td>free</td>\n      <td>San Francisco-Oakland-Hayward, CA</td>\n      <td>GET</td>\n      <td>Home</td>\n      <td>1.540920e+12</td>\n      <td>38</td>\n      <td>NaN</td>\n      <td>200</td>\n      <td>1.541110e+12</td>\n      <td>39</td>\n    </tr>\n    <tr>\n      <th>1</th>\n      <td>NaN</td>\n      <td>Logged In</td>\n      <td>Kaylee</td>\n      <td>F</td>\n      <td>0</td>\n      <td>Summers</td>\n      <td>NaN</td>\n      <td>free</td>\n      <td>Phoenix-Mesa-Scottsdale, AZ</td>\n      <td>GET</td>\n      <td>Home</td>\n      <td>1.540340e+12</td>\n      <td>139</td>\n      <td>NaN</td>\n      <td>200</td>\n      <td>1.541110e+12</td>\n      <td>8</td>\n    </tr>\n    <tr>\n      <th>2</th>\n      <td>Des'ree</td>\n      <td>Logged In</td>\n      <td>Kaylee</td>\n      <td>F</td>\n      <td>1</td>\n      <td>Summers</td>\n      <td>246.30812</td>\n      <td>free</td>\n      <td>Phoenix-Mesa-Scottsdale, AZ</td>\n      <td>PUT</td>\n      <td>NextSong</td>\n      <td>1.540340e+12</td>\n      <td>139</td>\n      <td>You Gotta Be</td>\n      <td>200</td>\n      <td>1.541110e+12</td>\n      <td>8</td>\n    </tr>\n    <tr>\n      <th>3</th>\n      <td>NaN</td>\n      <td>Logged In</td>\n      <td>Kaylee</td>\n      <td>F</td>\n      <td>2</td>\n      <td>Summers</td>\n      <td>NaN</td>\n      <td>free</td>\n      <td>Phoenix-Mesa-Scottsdale, AZ</td>\n      <td>GET</td>\n      <td>Upgrade</td>\n      <td>1.540340e+12</td>\n      <td>139</td>\n      <td>NaN</td>\n      <td>200</td>\n      <td>1.541110e+12</td>\n      <td>8</td>\n    </tr>\n    <tr>\n      <th>4</th>\n      <td>Mr Oizo</td>\n      <td>Logged In</td>\n      <td>Kaylee</td>\n      <td>F</td>\n      <td>3</td>\n      <td>Summers</td>\n      <td>144.03873</td>\n      <td>free</td>\n      <td>Phoenix-Mesa-Scottsdale, AZ</td>\n      <td>PUT</td>\n      <td>NextSong</td>\n      <td>1.540340e+12</td>\n      <td>139</td>\n      <td>Flat 55</td>\n      <td>200</td>\n      <td>1.541110e+12</td>\n      <td>8</td>\n    </tr>\n    <tr>\n      <th>5</th>\n      <td>Tamba Trio</td>\n      <td>Logged In</td>\n      <td>Kaylee</td>\n      <td>F</td>\n      <td>4</td>\n      <td>Summers</td>\n      <td>177.18812</td>\n      <td>free</td>\n      <td>Phoenix-Mesa-Scottsdale, AZ</td>\n      <td>PUT</td>\n      <td>NextSong</td>\n      <td>1.540340e+12</td>\n      <td>139</td>\n      <td>Quem Quiser Encontrar O Amor</td>\n      <td>200</td>\n      <td>1.541110e+12</td>\n      <td>8</td>\n    </tr>\n    <tr>\n      <th>6</th>\n      <td>The Mars Volta</td>\n      <td>Logged In</td>\n      <td>Kaylee</td>\n      <td>F</td>\n      <td>5</td>\n      <td>Summers</td>\n      <td>380.42077</td>\n      <td>free</td>\n      <td>Phoenix-Mesa-Scottsdale, AZ</td>\n      <td>PUT</td>\n      <td>NextSong</td>\n      <td>1.540340e+12</td>\n      <td>139</td>\n      <td>Eriatarka</td>\n      <td>200</td>\n      <td>1.541110e+12</td>\n      <td>8</td>\n    </tr>\n    <tr>\n      <th>7</th>\n      <td>Infected Mushroom</td>\n      <td>Logged In</td>\n      <td>Kaylee</td>\n      <td>F</td>\n      <td>6</td>\n      <td>Summers</td>\n      <td>440.26730</td>\n      <td>free</td>\n      <td>Phoenix-Mesa-Scottsdale, AZ</td>\n      <td>PUT</td>\n      <td>NextSong</td>\n      <td>1.540340e+12</td>\n      <td>139</td>\n      <td>Becoming Insane</td>\n      <td>200</td>\n      <td>1.541110e+12</td>\n      <td>8</td>\n    </tr>\n    <tr>\n      <th>8</th>\n      <td>Blue October / Imogen Heap</td>\n      <td>Logged In</td>\n      <td>Kaylee</td>\n      <td>F</td>\n      <td>7</td>\n      <td>Summers</td>\n      <td>241.39710</td>\n      <td>free</td>\n      <td>Phoenix-Mesa-Scottsdale, AZ</td>\n      <td>PUT</td>\n      <td>NextSong</td>\n      <td>1.540340e+12</td>\n      <td>139</td>\n      <td>Congratulations</td>\n      <td>200</td>\n      <td>1.541110e+12</td>\n      <td>8</td>\n    </tr>\n    <tr>\n      <th>9</th>\n      <td>Girl Talk</td>\n      <td>Logged In</td>\n      <td>Kaylee</td>\n      <td>F</td>\n      <td>8</td>\n      <td>Summers</td>\n      <td>160.15628</td>\n      <td>free</td>\n      <td>Phoenix-Mesa-Scottsdale, AZ</td>\n      <td>PUT</td>\n      <td>NextSong</td>\n      <td>1.540340e+12</td>\n      <td>139</td>\n      <td>Once again</td>\n      <td>200</td>\n      <td>1.541110e+12</td>\n      <td>8</td>\n    </tr>\n    <tr>\n      <th>10</th>\n      <td>Black Eyed Peas</td>\n      <td>Logged In</td>\n      <td>Sylvie</td>\n      <td>F</td>\n      <td>0</td>\n      <td>Cruz</td>\n      <td>214.93506</td>\n      <td>free</td>\n      <td>Washington-Arlington-Alexandria, DC-VA-MD-WV</td>\n      <td>PUT</td>\n      <td>NextSong</td>\n      <td>1.540270e+12</td>\n      <td>9</td>\n      <td>Pump It</td>\n      <td>200</td>\n      <td>1.541110e+12</td>\n      <td>10</td>\n    </tr>\n    <tr>\n      <th>11</th>\n      <td>NaN</td>\n      <td>Logged In</td>\n      <td>Ryan</td>\n      <td>M</td>\n      <td>0</td>\n      <td>Smith</td>\n      <td>NaN</td>\n      <td>free</td>\n      <td>San Jose-Sunnyvale-Santa Clara, CA</td>\n      <td>GET</td>\n      <td>Home</td>\n      <td>1.541020e+12</td>\n      <td>169</td>\n      <td>NaN</td>\n      <td>200</td>\n      <td>1.541110e+12</td>\n      <td>26</td>\n    </tr>\n    <tr>\n      <th>12</th>\n      <td>Fall Out Boy</td>\n      <td>Logged In</td>\n      <td>Ryan</td>\n      <td>M</td>\n      <td>1</td>\n      <td>Smith</td>\n      <td>200.72444</td>\n      <td>free</td>\n      <td>San Jose-Sunnyvale-Santa Clara, CA</td>\n      <td>PUT</td>\n      <td>NextSong</td>\n      <td>1.541020e+12</td>\n      <td>169</td>\n      <td>Nobody Puts Baby In The Corner</td>\n      <td>200</td>\n      <td>1.541110e+12</td>\n      <td>26</td>\n    </tr>\n    <tr>\n      <th>13</th>\n      <td>M.I.A.</td>\n      <td>Logged In</td>\n      <td>Ryan</td>\n      <td>M</td>\n      <td>2</td>\n      <td>Smith</td>\n      <td>233.71710</td>\n      <td>free</td>\n      <td>San Jose-Sunnyvale-Santa Clara, CA</td>\n      <td>PUT</td>\n      <td>NextSong</td>\n      <td>1.541020e+12</td>\n      <td>169</td>\n      <td>Mango Pickle Down River (With The Wilcannia Mob)</td>\n      <td>200</td>\n      <td>1.541110e+12</td>\n      <td>26</td>\n    </tr>\n    <tr>\n      <th>14</th>\n      <td>Survivor</td>\n      <td>Logged In</td>\n      <td>Jayden</td>\n      <td>M</td>\n      <td>0</td>\n      <td>Fox</td>\n      <td>245.36771</td>\n      <td>free</td>\n      <td>New Orleans-Metairie, LA</td>\n      <td>PUT</td>\n      <td>NextSong</td>\n      <td>1.541030e+12</td>\n      <td>100</td>\n      <td>Eye Of The Tiger</td>\n      <td>200</td>\n      <td>1.541110e+12</td>\n      <td>101</td>\n    </tr>\n  </tbody>\n</table>\n</div>"
     },
     "metadata": {},
     "execution_count": 23
    }
   ],
   "source": [
    "df"
   ]
  },
  {
   "cell_type": "code",
   "execution_count": 29,
   "metadata": {},
   "outputs": [
    {
     "output_type": "execute_result",
     "data": {
      "text/plain": [
       "['/home/indocyber/course/Data-Modeling-with-Cassandra/event_data/2018-11-01-events.csv',\n",
       " '/home/indocyber/course/Data-Modeling-with-Cassandra/event_data/2018-11-02-events.csv',\n",
       " '/home/indocyber/course/Data-Modeling-with-Cassandra/event_data/2018-11-03-events.csv',\n",
       " '/home/indocyber/course/Data-Modeling-with-Cassandra/event_data/2018-11-04-events.csv',\n",
       " '/home/indocyber/course/Data-Modeling-with-Cassandra/event_data/2018-11-05-events.csv',\n",
       " '/home/indocyber/course/Data-Modeling-with-Cassandra/event_data/2018-11-06-events.csv',\n",
       " '/home/indocyber/course/Data-Modeling-with-Cassandra/event_data/2018-11-07-events.csv',\n",
       " '/home/indocyber/course/Data-Modeling-with-Cassandra/event_data/2018-11-08-events.csv',\n",
       " '/home/indocyber/course/Data-Modeling-with-Cassandra/event_data/2018-11-09-events.csv',\n",
       " '/home/indocyber/course/Data-Modeling-with-Cassandra/event_data/2018-11-10-events.csv',\n",
       " '/home/indocyber/course/Data-Modeling-with-Cassandra/event_data/2018-11-11-events.csv',\n",
       " '/home/indocyber/course/Data-Modeling-with-Cassandra/event_data/2018-11-12-events.csv',\n",
       " '/home/indocyber/course/Data-Modeling-with-Cassandra/event_data/2018-11-13-events.csv',\n",
       " '/home/indocyber/course/Data-Modeling-with-Cassandra/event_data/2018-11-14-events.csv',\n",
       " '/home/indocyber/course/Data-Modeling-with-Cassandra/event_data/2018-11-15-events.csv',\n",
       " '/home/indocyber/course/Data-Modeling-with-Cassandra/event_data/2018-11-16-events.csv',\n",
       " '/home/indocyber/course/Data-Modeling-with-Cassandra/event_data/2018-11-17-events.csv',\n",
       " '/home/indocyber/course/Data-Modeling-with-Cassandra/event_data/2018-11-18-events.csv']"
      ]
     },
     "metadata": {},
     "execution_count": 29
    }
   ],
   "source": []
  }
 ]
}